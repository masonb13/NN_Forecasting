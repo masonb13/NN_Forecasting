{
 "cells": [
  {
   "cell_type": "code",
   "execution_count": 92,
   "metadata": {},
   "outputs": [],
   "source": [
    "import pandas as pd\n",
    "import matplotlib.pyplot as plt\n",
    "import numpy as np\n",
    "import torch\n",
    "from torch import nn\n",
    "from torch.utils.data import DataLoader\n",
    "from torchvision import datasets\n",
    "from torchvision.transforms import ToTensor\n",
    "from torch.utils.data import Dataset"
   ]
  },
  {
   "cell_type": "code",
   "execution_count": 93,
   "metadata": {},
   "outputs": [],
   "source": [
    "#torch data set\n",
    "class dataSetAll(Dataset):\n",
    "    def __init__(self, yearLow, yearHigh,numFeat,numOut):\n",
    "        #import data from CSV\n",
    "        self.df = pd.read_csv(\"data\\FluViewPhase2Data\\WHO_NREVSS_Combined_prior_to_2015_16.csv\")\n",
    "        self.df = self.df[(yearLow <= self.df[\"YEAR\"]) & (self.df[\"YEAR\"] < yearHigh)][[\"TOTAL\",\"PERCENT POSITIVE\"]]\n",
    "\n",
    "        self.numFeat = numFeat #------------------------\n",
    "        self.numOut = numOut\n",
    "        \n",
    "        self.data = np.asarray(self.df,dtype=np.float32)\n",
    "        # print(self.data)\n",
    "        self.norm = np.linalg.norm(self.data, axis=0)\n",
    "        # print(self.norm)\n",
    "        self.data = self.data / self.norm\n",
    "        self.data = torch.as_tensor(self.data)\n",
    "\n",
    "    def __len__(self):\n",
    "        return len(self.data)-self.numFeat-self.numOut\n",
    "    \n",
    "    def __getitem__(self,idx):\n",
    "        # idx = 0\n",
    "        return self.data[idx:idx+self.numFeat],self.data[idx+self.numFeat:idx+self.numFeat+self.numOut]\n",
    "    \n",
    "    def getNorm(self):\n",
    "        return self.norm"
   ]
  },
  {
   "cell_type": "code",
   "execution_count": 94,
   "metadata": {},
   "outputs": [
    {
     "name": "stdout",
     "output_type": "stream",
     "text": [
      "(tensor([[0.0176, 0.0017],\n",
      "        [0.0200, 0.0021],\n",
      "        [0.0222, 0.0011],\n",
      "        [0.0232, 0.0014],\n",
      "        [0.0267, 0.0036]]), tensor([[0.0236, 0.0065],\n",
      "        [0.0274, 0.0061],\n",
      "        [0.0325, 0.0126],\n",
      "        [0.0359, 0.0282]]))\n"
     ]
    }
   ],
   "source": [
    "#create data loaders\n",
    "numFeat = 5\n",
    "numOut = 4\n",
    "batchSize = 64\n",
    "train_data = dataSetAll(1900,2009,numFeat,numOut)\n",
    "print(train_data[0])\n",
    "train_dataloader = DataLoader(train_data, batch_size=batchSize,drop_last=False,shuffle=True)"
   ]
  },
  {
   "cell_type": "code",
   "execution_count": 95,
   "metadata": {},
   "outputs": [],
   "source": [
    "# create our RNN based network with an RNN followed by a linear layer\n",
    "inputSize = 2\n",
    "sequenceLength = numFeat\n",
    "numLayers = 1\n",
    "hiddenSize = 8\n",
    "\n",
    "class LSTM(nn.Module):\n",
    "    def __init__(self,inputSize,hiddenSize,numLayers,numOut,sequenceLength,future=0):\n",
    "        super(LSTM, self).__init__()\n",
    "        self.inputSize = inputSize\n",
    "        self.hiddenSize = hiddenSize\n",
    "        self.numLayers = numLayers\n",
    "        self.numOut = numOut\n",
    "        self.future = future\n",
    "        # print(batchSize,sequenceLength,inputSize)\n",
    "        # self.LSTM = nn.LSTM(inputSize,hiddenSize,numLayers,batch_first=True)\n",
    "        self.rnn = nn.LSTMCell(inputSize,hiddenSize)\n",
    "        # self.rnn2 = nn.RNNCell(1,hiddenSize,nonlinearity='tanh')\n",
    "        self.fc = nn.Linear(hiddenSize,inputSize)\n",
    "        \n",
    "    def forward(self,x):\n",
    "        nSamples = x.size(0)\n",
    "        outputs = torch.zeros([nSamples,4,2])\n",
    "        h_1 = torch.zeros(nSamples, self.hiddenSize, dtype=torch.float32)\n",
    "        c_1 = torch.zeros(nSamples, self.hiddenSize, dtype=torch.float32)\n",
    "\n",
    "        for input in x.split(1,dim=1):\n",
    "            # print(input[:,0,:].size())\n",
    "            h_1, c_1 = self.rnn(input[:,0,:], (h_1,c_1))\n",
    "            out = self.fc(h_1)\n",
    "        outputs[:,0] = out\n",
    "            # h_2 = h_1\n",
    "        for i in range(self.numOut-1):\n",
    "            h_1, c_1 = self.rnn(out, (h_1,c_1))\n",
    "            out = self.fc(h_1)\n",
    "            outputs[:,i+1] = out\n",
    "\n",
    "        # outputs = torch.as_tensor(outputs)\n",
    "        return outputs\n",
    "\n",
    "model = LSTM(inputSize,hiddenSize,numLayers,numOut,sequenceLength)"
   ]
  },
  {
   "cell_type": "code",
   "execution_count": 96,
   "metadata": {},
   "outputs": [],
   "source": [
    "#train/test loop\n",
    "def train_loop(dataloader, model, loss_fn, optimizer,t):\n",
    "    size = len(dataloader.dataset)\n",
    "    for batch, (X, y) in enumerate(dataloader):\n",
    "        # Compute prediction and loss\n",
    "        # print(X.size())\n",
    "        # X = X[:,:,None]\n",
    "        # print(X.size())\n",
    "        pred = model(X)\n",
    "        # break\n",
    "        # print(pred.size())\n",
    "        # print(y.size())\n",
    "        # print(\"pred\",pred.size())\n",
    "        # print(\"Y\",y.size())\n",
    "        loss = loss_fn(pred, y)\n",
    "        \n",
    "        # Backpropagation\n",
    "        optimizer.zero_grad()\n",
    "        loss.backward()\n",
    "        optimizer.step()\n",
    "\n",
    "        if batch % size == 0:\n",
    "            loss, current = loss.item(), batch * len(X)\n",
    "            print(f\"loss({t}): {loss:>7f}  [{current:>5d}/{size:>5d}]\")"
   ]
  },
  {
   "cell_type": "code",
   "execution_count": 100,
   "metadata": {},
   "outputs": [
    {
     "name": "stdout",
     "output_type": "stream",
     "text": [
      "loss(0): 0.000310  [    0/  573]\n",
      "loss(1): 0.000201  [    0/  573]\n",
      "loss(2): 0.000134  [    0/  573]\n",
      "loss(3): 0.000233  [    0/  573]\n",
      "loss(4): 0.000162  [    0/  573]\n",
      "loss(5): 0.000233  [    0/  573]\n",
      "loss(6): 0.000166  [    0/  573]\n",
      "loss(7): 0.000156  [    0/  573]\n",
      "loss(8): 0.000164  [    0/  573]\n",
      "loss(9): 0.000181  [    0/  573]\n",
      "loss(10): 0.000227  [    0/  573]\n",
      "loss(11): 0.000129  [    0/  573]\n",
      "loss(12): 0.000175  [    0/  573]\n",
      "loss(13): 0.000211  [    0/  573]\n",
      "loss(14): 0.000156  [    0/  573]\n",
      "loss(15): 0.000181  [    0/  573]\n",
      "loss(16): 0.000284  [    0/  573]\n",
      "loss(17): 0.000204  [    0/  573]\n",
      "loss(18): 0.000133  [    0/  573]\n",
      "loss(19): 0.000160  [    0/  573]\n",
      "loss(20): 0.000097  [    0/  573]\n",
      "loss(21): 0.000173  [    0/  573]\n",
      "loss(22): 0.000148  [    0/  573]\n",
      "loss(23): 0.000147  [    0/  573]\n",
      "loss(24): 0.000165  [    0/  573]\n",
      "loss(25): 0.000126  [    0/  573]\n",
      "loss(26): 0.000198  [    0/  573]\n",
      "loss(27): 0.000124  [    0/  573]\n",
      "loss(28): 0.000168  [    0/  573]\n",
      "loss(29): 0.000155  [    0/  573]\n",
      "loss(30): 0.000214  [    0/  573]\n",
      "loss(31): 0.000193  [    0/  573]\n",
      "loss(32): 0.000139  [    0/  573]\n",
      "loss(33): 0.000113  [    0/  573]\n",
      "loss(34): 0.000148  [    0/  573]\n",
      "loss(35): 0.000145  [    0/  573]\n",
      "loss(36): 0.000206  [    0/  573]\n",
      "loss(37): 0.000169  [    0/  573]\n",
      "loss(38): 0.000211  [    0/  573]\n",
      "loss(39): 0.000165  [    0/  573]\n",
      "loss(40): 0.000182  [    0/  573]\n",
      "loss(41): 0.000207  [    0/  573]\n",
      "loss(42): 0.000145  [    0/  573]\n",
      "loss(43): 0.000154  [    0/  573]\n",
      "loss(44): 0.000126  [    0/  573]\n",
      "loss(45): 0.000165  [    0/  573]\n",
      "loss(46): 0.000177  [    0/  573]\n",
      "loss(47): 0.000206  [    0/  573]\n",
      "loss(48): 0.000183  [    0/  573]\n",
      "loss(49): 0.000135  [    0/  573]\n"
     ]
    }
   ],
   "source": [
    "learning_rate = .001\n",
    "epochs = 400\n",
    "loss_fn = nn.MSELoss()\n",
    "optimizer = torch.optim.Adam(model.parameters(), lr=learning_rate)\n",
    "# print(list(model.parameters()))\n",
    "\n",
    "# print(list(model.parameters()))\n",
    "for t in range(epochs):\n",
    "    # print(f\"Epoch {t+1}\\n-------------------------------\")\n",
    "    train_loop(train_dataloader, model, loss_fn, optimizer,t)\n",
    "    # break\n",
    "    # test_loop(test_dataloader, model, loss_fn)\n",
    "\n",
    "print(\"Done!\")\n",
    "# print(list(model.parameters()))"
   ]
  },
  {
   "cell_type": "code",
   "execution_count": 99,
   "metadata": {},
   "outputs": [
    {
     "data": {
      "image/png": "[encoded data removed]",
      "text/plain": [
       "<Figure size 432x288 with 1 Axes>"
      ]
     },
     "metadata": {
      "needs_background": "light"
     },
     "output_type": "display_data"
    }
   ],
   "source": [
    "def test_loop(model):\n",
    "    test_data = dataSetAll(2010,2100,numFeat,numOut)\n",
    "\n",
    "    with torch.no_grad():\n",
    "        for idx in range(len(test_data)):\n",
    "            X = test_data[idx][0]\n",
    "            Y = test_data[idx][1]\n",
    "            feat = X[None,:]\n",
    "            pred = model(feat)[0]\n",
    "            plt.plot(Y)\n",
    "            plt.plot(pred)\n",
    "            \n",
    "            plt.show()\n",
    "\n",
    "\n",
    "def graph(model):\n",
    "    # test_data = dataSetAll(1900,2009,numFeat,numOut)\n",
    "    test_data = dataSetAll(2010,2100,numFeat,numOut)\n",
    "    norm = test_data.getNorm()\n",
    "    with torch.no_grad():\n",
    "        predY = []\n",
    "        actY = []\n",
    "        for idx in range(len(test_data)):\n",
    "            X = test_data[idx][0]\n",
    "            y = test_data[idx][1]*norm\n",
    "            feat = X[None,:]\n",
    "\n",
    "            pred = model(feat)[0]*norm\n",
    "            future = 3\n",
    "\n",
    "            # predY.append(pred[numFeat-1::][future])\n",
    "            # actY.append(y[numFeat-1::][future]) \n",
    "            pred = pred[:,0] \n",
    "            y = y[:,0]  \n",
    "            # print(pred.size())\n",
    "            # print(float(pred[3]))\n",
    "            predY.append(pred[future])\n",
    "            actY.append(y[future])    \n",
    "            \n",
    "        plt.plot(actY) \n",
    "        plt.plot(predY)\n",
    "        plt.show()\n",
    "\n",
    "graph(model)\n",
    "# test_loop(model)\n"
   ]
  }
 ],
 "metadata": {
  "kernelspec": {
   "display_name": "Python 3",
   "language": "python",
   "name": "python3"
  },
  "language_info": {
   "codemirror_mode": {
    "name": "ipython",
    "version": 3
   },
   "file_extension": ".py",
   "mimetype": "text/x-python",
   "name": "python",
   "nbconvert_exporter": "python",
   "pygments_lexer": "ipython3",
   "version": "3.10.5"
  },
  "orig_nbformat": 4,
  "vscode": {
   "interpreter": {
    "hash": "a148e496c0f49d57628151d2aab378855c5a8a7aaacdf2673cbe18e166795068"
   }
  }
 },
 "nbformat": 4,
 "nbformat_minor": 2
}
