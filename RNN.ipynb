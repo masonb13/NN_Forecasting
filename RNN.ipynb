{
 "cells": [
  {
   "cell_type": "code",
   "execution_count": null,
   "metadata": {},
   "outputs": [],
   "source": [
    "import pandas as pd\n",
    "import matplotlib.pyplot as plt\n",
    "import numpy as np\n",
    "import torch\n",
    "from torch import nn\n",
    "from torch.utils.data import DataLoader\n",
    "from torchvision import datasets\n",
    "from torchvision.transforms import ToTensor\n",
    "from torch.utils.data import Dataset"
   ]
  },
  {
   "cell_type": "code",
   "execution_count": null,
   "metadata": {},
   "outputs": [],
   "source": [
    "#torch data set\n",
    "class dataSetAll(Dataset):\n",
    "    def __init__(self, yearLow, yearHigh):\n",
    "        #import data from CDC\n",
    "        self.df = pd.read_csv(\"data\\FluViewPhase2Data\\WHO_NREVSS_Combined_prior_to_2015_16.csv\")\n",
    "        self.df = self.df[(yearLow <= self.df[\"YEAR\"]) & (self.df[\"YEAR\"] < yearHigh)]\n",
    "        #turn data into features and output\n",
    "        #features: 5 previous + one from last year for predicted\n",
    "        #output: prediction for next time\n",
    "\n",
    "        #create test data\n",
    "        numFeat = 5 #------------------------\n",
    "        numOut = 1\n",
    "        self.X = np.empty([numFeat,len(self.df)-numFeat-numOut],dtype=np.float32)\n",
    "        self.Y = np.empty([numOut,len(self.df)-numFeat-numOut],dtype=np.float32)\n",
    "        for i in range(self.Y.shape[1]):\n",
    "            self.X[:,i] = np.asarray(self.df.iloc[i:i+numFeat][\"TOTAL\"])\n",
    "            self.Y[:,i] = np.asarray(self.df.iloc[i+numFeat:i+numFeat+numOut][\"TOTAL\"])\n",
    "\n",
    "        self.X = torch.from_numpy(self.X)\n",
    "        self.Y = torch.from_numpy(self.Y)\n",
    "\n",
    "    def __len__(self):\n",
    "        return self.Y.shape[1]\n",
    "    \n",
    "    def __getitem__(self,idx):\n",
    "        return self.X[:,idx].T, self.Y[:,idx]"
   ]
  },
  {
   "cell_type": "code",
   "execution_count": null,
   "metadata": {},
   "outputs": [],
   "source": [
    "#create data loaders\n",
    "train_data = dataSetAll(1900,2013)\n",
    "test_data = dataSetAll(2013,2100)\n",
    "train_dataloader = DataLoader(train_data, batch_size=64)\n",
    "test_dataloader = DataLoader(test_data, batch_size=64)"
   ]
  }
 ],
 "metadata": {
  "kernelspec": {
   "display_name": "Python 3",
   "language": "python",
   "name": "python3"
  },
  "language_info": {
   "name": "python",
   "version": "3.10.5 (tags/v3.10.5:f377153, Jun  6 2022, 16:14:13) [MSC v.1929 64 bit (AMD64)]"
  },
  "orig_nbformat": 4,
  "vscode": {
   "interpreter": {
    "hash": "a148e496c0f49d57628151d2aab378855c5a8a7aaacdf2673cbe18e166795068"
   }
  }
 },
 "nbformat": 4,
 "nbformat_minor": 2
}
