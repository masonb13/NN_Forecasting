{
 "cells": [
  {
   "cell_type": "code",
   "execution_count": 1,
   "metadata": {},
   "outputs": [],
   "source": [
    "import pandas as pd\n",
    "import matplotlib.pyplot as plt\n",
    "import numpy as np\n",
    "import torch\n",
    "from torch import nn\n",
    "from torch.utils.data import DataLoader\n",
    "from torchvision import datasets\n",
    "from torchvision.transforms import ToTensor\n",
    "from torch.utils.data import Dataset"
   ]
  },
  {
   "cell_type": "code",
   "execution_count": 9,
   "metadata": {},
   "outputs": [
    {
     "name": "stdout",
     "output_type": "stream",
     "text": [
      "tensor([[[-6.1115e-01, -4.8340e-01,  5.8238e-01,  7.0847e-02,  8.5563e-01,\n",
      "           1.0539e+00, -3.1579e-01, -1.6596e+00,  7.8983e-01, -7.0112e-01],\n",
      "         [ 1.2196e-01, -8.1421e-01, -1.1763e+00, -1.5492e+00,  1.3736e+00,\n",
      "          -2.4786e-01,  1.3487e+00, -2.2812e-01,  3.2242e-01, -6.6167e-01],\n",
      "         [-1.4039e+00, -9.2574e-01, -9.4556e-01,  4.6657e-01,  4.6758e-01,\n",
      "           4.1772e-01,  2.1371e+00, -3.0771e-02,  1.0070e+00,  1.1428e+00]],\n",
      "\n",
      "        [[ 5.8352e-01,  8.0503e-01, -5.3271e-01, -1.3715e+00,  1.3053e+00,\n",
      "           4.8116e-01, -7.7073e-01,  1.1401e-02, -1.0508e+00,  3.5372e-01],\n",
      "         [ 6.7581e-02, -2.6978e-03,  3.7020e-02,  1.0372e+00,  1.1222e+00,\n",
      "          -5.3880e-01,  1.6580e-01, -1.3411e+00,  3.3756e-02,  8.0763e-01],\n",
      "         [ 3.9904e-01,  1.0546e-01, -1.1706e-01,  4.7218e-01,  1.9828e+00,\n",
      "          -7.5319e-02, -1.2124e+00, -1.3795e+00,  5.4361e-01,  1.9697e-01]],\n",
      "\n",
      "        [[ 1.0426e-01,  2.8411e-01,  8.5374e-01,  1.6221e+00,  2.5063e-01,\n",
      "           2.1677e-01,  8.4862e-01,  3.2070e-02, -2.7173e+00,  1.0908e+00],\n",
      "         [ 9.6824e-01,  2.2155e+00, -1.4700e+00,  5.8804e-01, -7.8578e-01,\n",
      "           2.1289e-02,  1.0354e+00, -1.6791e-01,  1.1326e+00,  1.5035e+00],\n",
      "         [ 1.4654e+00,  1.6493e+00,  1.5948e+00, -6.7835e-01,  7.3372e-01,\n",
      "           3.8715e-01,  5.4153e-01, -1.1727e-02,  1.2612e+00,  1.4111e-01]],\n",
      "\n",
      "        [[-5.4536e-01,  5.4596e-01, -3.5554e-01,  4.2969e-01,  6.7217e-02,\n",
      "          -3.4199e-01,  1.2880e+00, -3.5176e-01, -5.6638e-01,  6.8584e-01],\n",
      "         [ 1.3730e+00,  4.7218e-01,  3.1856e-01, -1.4094e+00, -3.1121e-01,\n",
      "           1.6533e-01, -1.9897e+00, -1.6193e+00,  1.9025e-01,  2.2737e-01],\n",
      "         [-1.1659e+00, -7.1202e-01,  1.4536e+00, -2.2681e-01, -2.5508e-01,\n",
      "           4.7742e-01, -1.1745e+00, -3.4566e-01,  6.2359e-01,  9.0774e-01]],\n",
      "\n",
      "        [[-2.8172e-01,  3.8649e-01, -7.9603e-01, -1.2001e-01, -1.1218e+00,\n",
      "          -1.0325e-01,  3.9792e-02,  4.5943e-01,  2.1093e-01,  6.8989e-01],\n",
      "         [ 7.6134e-01,  2.6964e-01,  1.1087e+00, -9.7749e-01, -7.1581e-01,\n",
      "          -9.7604e-01,  3.8513e-01, -2.3886e-01, -9.9793e-02, -1.0638e+00],\n",
      "         [ 3.4007e-01,  1.3851e+00,  1.2631e-01, -9.9096e-01, -1.2965e+00,\n",
      "          -9.5508e-01,  8.3346e-01,  1.1836e+00,  3.3069e-01, -5.7957e-01]]])\n"
     ]
    }
   ],
   "source": [
    "rnn = nn.LSTM(10,20,2)\n",
    "input = torch.randn(5, 3, 10)\n",
    "h0 = torch.randn(2, 3, 20)\n",
    "c0 = torch.randn(2, 3, 20)\n",
    "output, (hn, cn) = rnn(input, (h0, c0))\n",
    "print(input)"
   ]
  },
  {
   "cell_type": "code",
   "execution_count": null,
   "metadata": {},
   "outputs": [],
   "source": []
  }
 ],
 "metadata": {
  "kernelspec": {
   "display_name": "Python 3",
   "language": "python",
   "name": "python3"
  },
  "language_info": {
   "codemirror_mode": {
    "name": "ipython",
    "version": 3
   },
   "file_extension": ".py",
   "mimetype": "text/x-python",
   "name": "python",
   "nbconvert_exporter": "python",
   "pygments_lexer": "ipython3",
   "version": "3.10.5"
  },
  "orig_nbformat": 4,
  "vscode": {
   "interpreter": {
    "hash": "a148e496c0f49d57628151d2aab378855c5a8a7aaacdf2673cbe18e166795068"
   }
  }
 },
 "nbformat": 4,
 "nbformat_minor": 2
}
